{
 "cells": [
  {
   "cell_type": "markdown",
   "metadata": {
    "heading_collapsed": true
   },
   "source": [
    "# 尝试Tushare接口"
   ]
  },
  {
   "cell_type": "code",
   "execution_count": 1,
   "metadata": {
    "hidden": true
   },
   "outputs": [],
   "source": [
    "import tushare as ts "
   ]
  },
  {
   "cell_type": "markdown",
   "metadata": {
    "hidden": true
   },
   "source": [
    "## 初始化数据接口"
   ]
  },
  {
   "cell_type": "code",
   "execution_count": 2,
   "metadata": {
    "hidden": true
   },
   "outputs": [],
   "source": [
    "ts_token = 'my_token'\n",
    "ts.set_token(ts_token)\n",
    "ts_api = ts.pro_api()"
   ]
  },
  {
   "cell_type": "markdown",
   "metadata": {
    "hidden": true
   },
   "source": [
    "## 时间全局变量"
   ]
  },
  {
   "cell_type": "code",
   "execution_count": 31,
   "metadata": {
    "hidden": true
   },
   "outputs": [
    {
     "data": {
      "text/plain": [
       "'20200212'"
      ]
     },
     "execution_count": 31,
     "metadata": {},
     "output_type": "execute_result"
    }
   ],
   "source": [
    "import datetime\n",
    "\n",
    "# 当前日期\n",
    "today = datetime.date.today().strftime('%Y%m%d')\n",
    "today"
   ]
  },
  {
   "cell_type": "markdown",
   "metadata": {
    "hidden": true
   },
   "source": [
    "## 全国电影剧本备案数据"
   ]
  },
  {
   "cell_type": "code",
   "execution_count": 38,
   "metadata": {
    "hidden": true,
    "scrolled": true
   },
   "outputs": [
    {
     "data": {
      "text/html": [
       "<div>\n",
       "<style scoped>\n",
       "    .dataframe tbody tr th:only-of-type {\n",
       "        vertical-align: middle;\n",
       "    }\n",
       "\n",
       "    .dataframe tbody tr th {\n",
       "        vertical-align: top;\n",
       "    }\n",
       "\n",
       "    .dataframe thead th {\n",
       "        text-align: right;\n",
       "    }\n",
       "</style>\n",
       "<table border=\"1\" class=\"dataframe\">\n",
       "  <thead>\n",
       "    <tr style=\"text-align: right;\">\n",
       "      <th></th>\n",
       "      <th>rec_no</th>\n",
       "      <th>film_name</th>\n",
       "      <th>rec_org</th>\n",
       "      <th>script_writer</th>\n",
       "      <th>rec_result</th>\n",
       "      <th>rec_area</th>\n",
       "      <th>classified</th>\n",
       "      <th>date_range</th>\n",
       "      <th>ann_date</th>\n",
       "    </tr>\n",
       "  </thead>\n",
       "  <tbody>\n",
       "    <tr>\n",
       "      <td>0</td>\n",
       "      <td>影剧备字[2018]第175号</td>\n",
       "      <td>分裂</td>\n",
       "      <td>北京天工联合影业有限公司</td>\n",
       "      <td>李菁菁</td>\n",
       "      <td>修改后同意拍摄</td>\n",
       "      <td>北京市</td>\n",
       "      <td>故事影片</td>\n",
       "      <td>2019年04月21日-04月30日</td>\n",
       "      <td>2019-06-18 16:32</td>\n",
       "    </tr>\n",
       "    <tr>\n",
       "      <td>1</td>\n",
       "      <td>影剧备字[2018]第2691号</td>\n",
       "      <td>远东特快</td>\n",
       "      <td>晶喜影业（北京）有限公司</td>\n",
       "      <td>罗登</td>\n",
       "      <td>同意拍摄</td>\n",
       "      <td>北京市</td>\n",
       "      <td>故事影片</td>\n",
       "      <td>2019年04月21日-04月30日</td>\n",
       "      <td>2019-06-18 16:32</td>\n",
       "    </tr>\n",
       "    <tr>\n",
       "      <td>2</td>\n",
       "      <td>影剧备字[2018]第3140号</td>\n",
       "      <td>春分夜</td>\n",
       "      <td>北京海润影业股份有限公司</td>\n",
       "      <td>舒浩仑</td>\n",
       "      <td>修改后同意拍摄</td>\n",
       "      <td>北京市</td>\n",
       "      <td>故事影片</td>\n",
       "      <td>2019年04月21日-04月30日</td>\n",
       "      <td>2019-06-18 16:32</td>\n",
       "    </tr>\n",
       "    <tr>\n",
       "      <td>3</td>\n",
       "      <td>影剧备字[2018]第3264号</td>\n",
       "      <td>一目了然</td>\n",
       "      <td>北京耳东明樾影业制作有限公司</td>\n",
       "      <td>吴越刘诣</td>\n",
       "      <td>同意拍摄</td>\n",
       "      <td>北京市</td>\n",
       "      <td>故事影片</td>\n",
       "      <td>2019年04月21日-04月30日</td>\n",
       "      <td>2019-06-18 16:32</td>\n",
       "    </tr>\n",
       "    <tr>\n",
       "      <td>4</td>\n",
       "      <td>影剧备字[2018]第5525号</td>\n",
       "      <td>火车名叫李一白</td>\n",
       "      <td>北京蝴蝶效应文化传媒有限公司</td>\n",
       "      <td>张靖予</td>\n",
       "      <td>修改后同意拍摄</td>\n",
       "      <td>北京市</td>\n",
       "      <td>故事影片</td>\n",
       "      <td>2019年04月21日-04月30日</td>\n",
       "      <td>2019-06-18 16:32</td>\n",
       "    </tr>\n",
       "    <tr>\n",
       "      <td>...</td>\n",
       "      <td>...</td>\n",
       "      <td>...</td>\n",
       "      <td>...</td>\n",
       "      <td>...</td>\n",
       "      <td>...</td>\n",
       "      <td>...</td>\n",
       "      <td>...</td>\n",
       "      <td>...</td>\n",
       "      <td>...</td>\n",
       "    </tr>\n",
       "    <tr>\n",
       "      <td>495</td>\n",
       "      <td>影剧备字[2018]第5114号</td>\n",
       "      <td>北京爱上你</td>\n",
       "      <td>国家新闻出版广电总局电影卫星频道节目制作中心</td>\n",
       "      <td>冯泽</td>\n",
       "      <td>同意拍摄</td>\n",
       "      <td>直备</td>\n",
       "      <td>故事影片</td>\n",
       "      <td>2019年03月11日-03月20日</td>\n",
       "      <td>2019-04-15 10:58</td>\n",
       "    </tr>\n",
       "    <tr>\n",
       "      <td>496</td>\n",
       "      <td>影剧备字[2018]第5191号</td>\n",
       "      <td>井然无序</td>\n",
       "      <td>国家新闻出版广电总局电影卫星频道节目制作中心</td>\n",
       "      <td>王梓</td>\n",
       "      <td>同意拍摄</td>\n",
       "      <td>直备</td>\n",
       "      <td>故事影片</td>\n",
       "      <td>2019年03月11日-03月20日</td>\n",
       "      <td>2019-04-15 10:58</td>\n",
       "    </tr>\n",
       "    <tr>\n",
       "      <td>497</td>\n",
       "      <td>影剧备字[2019]第1325号</td>\n",
       "      <td>伟大的战线</td>\n",
       "      <td>人民政协报文化传媒有限责任公司</td>\n",
       "      <td>王兴东</td>\n",
       "      <td>同意拍摄</td>\n",
       "      <td>直备</td>\n",
       "      <td>故事影片</td>\n",
       "      <td>2019年03月11日-03月20日</td>\n",
       "      <td>2019-04-15 10:58</td>\n",
       "    </tr>\n",
       "    <tr>\n",
       "      <td>498</td>\n",
       "      <td>影剧备字[2019]第1420号</td>\n",
       "      <td>睿王与庄妃（粤剧）</td>\n",
       "      <td>中国电影股份有限公司、广州市广播电视台</td>\n",
       "      <td>梁郁南</td>\n",
       "      <td>同意拍摄</td>\n",
       "      <td>直备</td>\n",
       "      <td>故事影片</td>\n",
       "      <td>2019年03月11日-03月20日</td>\n",
       "      <td>2019-04-15 10:58</td>\n",
       "    </tr>\n",
       "    <tr>\n",
       "      <td>499</td>\n",
       "      <td>影剧备字[2019]第1422号</td>\n",
       "      <td>南越宫词（粤剧）</td>\n",
       "      <td>中国电影股份有限公司、广州市广播电视台</td>\n",
       "      <td>王维忠</td>\n",
       "      <td>同意拍摄</td>\n",
       "      <td>直备</td>\n",
       "      <td>故事影片</td>\n",
       "      <td>2019年03月11日-03月20日</td>\n",
       "      <td>2019-04-15 10:58</td>\n",
       "    </tr>\n",
       "  </tbody>\n",
       "</table>\n",
       "<p>500 rows × 9 columns</p>\n",
       "</div>"
      ],
      "text/plain": [
       "               rec_no  film_name                 rec_org script_writer  \\\n",
       "0     影剧备字[2018]第175号         分裂            北京天工联合影业有限公司           李菁菁   \n",
       "1    影剧备字[2018]第2691号       远东特快            晶喜影业（北京）有限公司            罗登   \n",
       "2    影剧备字[2018]第3140号        春分夜            北京海润影业股份有限公司           舒浩仑   \n",
       "3    影剧备字[2018]第3264号       一目了然          北京耳东明樾影业制作有限公司          吴越刘诣   \n",
       "4    影剧备字[2018]第5525号    火车名叫李一白          北京蝴蝶效应文化传媒有限公司           张靖予   \n",
       "..                ...        ...                     ...           ...   \n",
       "495  影剧备字[2018]第5114号      北京爱上你  国家新闻出版广电总局电影卫星频道节目制作中心            冯泽   \n",
       "496  影剧备字[2018]第5191号       井然无序  国家新闻出版广电总局电影卫星频道节目制作中心            王梓   \n",
       "497  影剧备字[2019]第1325号      伟大的战线         人民政协报文化传媒有限责任公司           王兴东   \n",
       "498  影剧备字[2019]第1420号  睿王与庄妃（粤剧）     中国电影股份有限公司、广州市广播电视台           梁郁南   \n",
       "499  影剧备字[2019]第1422号   南越宫词（粤剧）     中国电影股份有限公司、广州市广播电视台           王维忠   \n",
       "\n",
       "    rec_result rec_area classified              date_range           ann_date  \n",
       "0      修改后同意拍摄      北京市       故事影片      2019年04月21日-04月30日  2019-06-18 16:32   \n",
       "1         同意拍摄      北京市       故事影片      2019年04月21日-04月30日  2019-06-18 16:32   \n",
       "2      修改后同意拍摄      北京市       故事影片      2019年04月21日-04月30日  2019-06-18 16:32   \n",
       "3         同意拍摄      北京市       故事影片      2019年04月21日-04月30日  2019-06-18 16:32   \n",
       "4      修改后同意拍摄      北京市       故事影片      2019年04月21日-04月30日  2019-06-18 16:32   \n",
       "..         ...      ...        ...                     ...                ...  \n",
       "495       同意拍摄       直备       故事影片      2019年03月11日-03月20日  2019-04-15 10:58   \n",
       "496       同意拍摄       直备       故事影片      2019年03月11日-03月20日  2019-04-15 10:58   \n",
       "497       同意拍摄       直备       故事影片      2019年03月11日-03月20日  2019-04-15 10:58   \n",
       "498       同意拍摄       直备       故事影片      2019年03月11日-03月20日  2019-04-15 10:58   \n",
       "499       同意拍摄       直备       故事影片      2019年03月11日-03月20日  2019-04-15 10:58   \n",
       "\n",
       "[500 rows x 9 columns]"
      ]
     },
     "execution_count": 38,
     "metadata": {},
     "output_type": "execute_result"
    }
   ],
   "source": [
    "film_record = ts_api.film_record(end_date=today_str)\n",
    "film_record\n",
    "\n",
    "# film_record.sort_values(by='ann_date', ascending=False, inplace=True)"
   ]
  },
  {
   "cell_type": "code",
   "execution_count": 40,
   "metadata": {
    "hidden": true
   },
   "outputs": [
    {
     "data": {
      "text/html": [
       "<div>\n",
       "<style scoped>\n",
       "    .dataframe tbody tr th:only-of-type {\n",
       "        vertical-align: middle;\n",
       "    }\n",
       "\n",
       "    .dataframe tbody tr th {\n",
       "        vertical-align: top;\n",
       "    }\n",
       "\n",
       "    .dataframe thead th {\n",
       "        text-align: right;\n",
       "    }\n",
       "</style>\n",
       "<table border=\"1\" class=\"dataframe\">\n",
       "  <thead>\n",
       "    <tr style=\"text-align: right;\">\n",
       "      <th></th>\n",
       "      <th>rec_no</th>\n",
       "      <th>film_name</th>\n",
       "      <th>rec_org</th>\n",
       "      <th>script_writer</th>\n",
       "      <th>rec_result</th>\n",
       "      <th>rec_area</th>\n",
       "      <th>classified</th>\n",
       "      <th>date_range</th>\n",
       "      <th>ann_date</th>\n",
       "    </tr>\n",
       "  </thead>\n",
       "  <tbody>\n",
       "    <tr>\n",
       "      <td>0</td>\n",
       "      <td>影剧备字[2018]第175号</td>\n",
       "      <td>分裂</td>\n",
       "      <td>北京天工联合影业有限公司</td>\n",
       "      <td>李菁菁</td>\n",
       "      <td>修改后同意拍摄</td>\n",
       "      <td>北京市</td>\n",
       "      <td>故事影片</td>\n",
       "      <td>2019年04月21日-04月30日</td>\n",
       "      <td>2019-06-18 16:32</td>\n",
       "    </tr>\n",
       "    <tr>\n",
       "      <td>105</td>\n",
       "      <td>影剧备字[2018]第7907号</td>\n",
       "      <td>风沙乱影</td>\n",
       "      <td>汇兴影业有限公司、临泽县香御影视文化传媒有限公司</td>\n",
       "      <td>修潇楠</td>\n",
       "      <td>同意拍摄</td>\n",
       "      <td>陕西省</td>\n",
       "      <td>故事影片</td>\n",
       "      <td>2019年04月21日-04月30日</td>\n",
       "      <td>2019-06-18 16:32</td>\n",
       "    </tr>\n",
       "    <tr>\n",
       "      <td>107</td>\n",
       "      <td>影剧备字[2019]第2429号</td>\n",
       "      <td>往回飞的风筝</td>\n",
       "      <td>陕西大唐兄弟文化传媒有限公司</td>\n",
       "      <td>孔现伟</td>\n",
       "      <td>同意拍摄</td>\n",
       "      <td>陕西省</td>\n",
       "      <td>故事影片</td>\n",
       "      <td>2019年04月21日-04月30日</td>\n",
       "      <td>2019-06-18 16:32</td>\n",
       "    </tr>\n",
       "    <tr>\n",
       "      <td>108</td>\n",
       "      <td>影剧备字[2019]第2494号</td>\n",
       "      <td>仇深似海</td>\n",
       "      <td>西安白露风河旅游文化传播有限公司、兰州浩发影视传媒有限公司</td>\n",
       "      <td>胡嵘</td>\n",
       "      <td>同意拍摄</td>\n",
       "      <td>陕西省</td>\n",
       "      <td>故事影片</td>\n",
       "      <td>2019年04月21日-04月30日</td>\n",
       "      <td>2019-06-18 16:32</td>\n",
       "    </tr>\n",
       "    <tr>\n",
       "      <td>109</td>\n",
       "      <td>影剧备字[2019]第3583号</td>\n",
       "      <td>掘金镇</td>\n",
       "      <td>西安嘉乐影业有限公司</td>\n",
       "      <td>王堯晖</td>\n",
       "      <td>同意拍摄</td>\n",
       "      <td>陕西省</td>\n",
       "      <td>故事影片</td>\n",
       "      <td>2019年04月21日-04月30日</td>\n",
       "      <td>2019-06-18 16:32</td>\n",
       "    </tr>\n",
       "    <tr>\n",
       "      <td>...</td>\n",
       "      <td>...</td>\n",
       "      <td>...</td>\n",
       "      <td>...</td>\n",
       "      <td>...</td>\n",
       "      <td>...</td>\n",
       "      <td>...</td>\n",
       "      <td>...</td>\n",
       "      <td>...</td>\n",
       "      <td>...</td>\n",
       "    </tr>\n",
       "    <tr>\n",
       "      <td>473</td>\n",
       "      <td>影剧备字[2019]第1608号</td>\n",
       "      <td>走盐</td>\n",
       "      <td>宁夏给力文化传媒有限公司、天津翼龙影视文化传媒有限公司</td>\n",
       "      <td>张现卫</td>\n",
       "      <td>同意拍摄</td>\n",
       "      <td>宁夏回族自治区</td>\n",
       "      <td>故事影片</td>\n",
       "      <td>2019年03月11日-03月20日</td>\n",
       "      <td>2019-04-15 10:58</td>\n",
       "    </tr>\n",
       "    <tr>\n",
       "      <td>474</td>\n",
       "      <td>影剧备字[2018]第5876号</td>\n",
       "      <td>寒食</td>\n",
       "      <td>烟台汇艺文化传媒有限公司</td>\n",
       "      <td>陈依玟</td>\n",
       "      <td>修改后同意拍摄</td>\n",
       "      <td>山东省</td>\n",
       "      <td>故事影片</td>\n",
       "      <td>2019年03月11日-03月20日</td>\n",
       "      <td>2019-04-15 10:58</td>\n",
       "    </tr>\n",
       "    <tr>\n",
       "      <td>475</td>\n",
       "      <td>影剧备字[2018]第9244号</td>\n",
       "      <td>信念一生</td>\n",
       "      <td>西安梦想流坊影视文化传媒有限公司、彬州梦想流坊文化传播有限公司</td>\n",
       "      <td>邢挺进</td>\n",
       "      <td>同意拍摄</td>\n",
       "      <td>陕西省</td>\n",
       "      <td>故事影片</td>\n",
       "      <td>2019年03月11日-03月20日</td>\n",
       "      <td>2019-04-15 10:58</td>\n",
       "    </tr>\n",
       "    <tr>\n",
       "      <td>476</td>\n",
       "      <td>影剧备字[2019]第1718号</td>\n",
       "      <td>红豆杉之恋</td>\n",
       "      <td>西安春芽影视传媒有限公司</td>\n",
       "      <td>王晓彬</td>\n",
       "      <td>同意拍摄</td>\n",
       "      <td>陕西省</td>\n",
       "      <td>故事影片</td>\n",
       "      <td>2019年03月11日-03月20日</td>\n",
       "      <td>2019-04-15 10:58</td>\n",
       "    </tr>\n",
       "    <tr>\n",
       "      <td>499</td>\n",
       "      <td>影剧备字[2019]第1422号</td>\n",
       "      <td>南越宫词（粤剧）</td>\n",
       "      <td>中国电影股份有限公司、广州市广播电视台</td>\n",
       "      <td>王维忠</td>\n",
       "      <td>同意拍摄</td>\n",
       "      <td>直备</td>\n",
       "      <td>故事影片</td>\n",
       "      <td>2019年03月11日-03月20日</td>\n",
       "      <td>2019-04-15 10:58</td>\n",
       "    </tr>\n",
       "  </tbody>\n",
       "</table>\n",
       "<p>500 rows × 9 columns</p>\n",
       "</div>"
      ],
      "text/plain": [
       "               rec_no film_name                          rec_org  \\\n",
       "0     影剧备字[2018]第175号        分裂                     北京天工联合影业有限公司   \n",
       "105  影剧备字[2018]第7907号      风沙乱影         汇兴影业有限公司、临泽县香御影视文化传媒有限公司   \n",
       "107  影剧备字[2019]第2429号    往回飞的风筝                   陕西大唐兄弟文化传媒有限公司   \n",
       "108  影剧备字[2019]第2494号      仇深似海    西安白露风河旅游文化传播有限公司、兰州浩发影视传媒有限公司   \n",
       "109  影剧备字[2019]第3583号       掘金镇                       西安嘉乐影业有限公司   \n",
       "..                ...       ...                              ...   \n",
       "473  影剧备字[2019]第1608号        走盐      宁夏给力文化传媒有限公司、天津翼龙影视文化传媒有限公司   \n",
       "474  影剧备字[2018]第5876号        寒食                     烟台汇艺文化传媒有限公司   \n",
       "475  影剧备字[2018]第9244号      信念一生  西安梦想流坊影视文化传媒有限公司、彬州梦想流坊文化传播有限公司   \n",
       "476  影剧备字[2019]第1718号     红豆杉之恋                     西安春芽影视传媒有限公司   \n",
       "499  影剧备字[2019]第1422号  南越宫词（粤剧）              中国电影股份有限公司、广州市广播电视台   \n",
       "\n",
       "    script_writer rec_result rec_area classified              date_range  \\\n",
       "0             李菁菁    修改后同意拍摄      北京市       故事影片      2019年04月21日-04月30日   \n",
       "105           修潇楠       同意拍摄      陕西省       故事影片      2019年04月21日-04月30日   \n",
       "107           孔现伟       同意拍摄      陕西省       故事影片      2019年04月21日-04月30日   \n",
       "108            胡嵘       同意拍摄      陕西省       故事影片      2019年04月21日-04月30日   \n",
       "109           王堯晖       同意拍摄      陕西省       故事影片      2019年04月21日-04月30日   \n",
       "..            ...        ...      ...        ...                     ...   \n",
       "473           张现卫       同意拍摄  宁夏回族自治区       故事影片      2019年03月11日-03月20日   \n",
       "474           陈依玟    修改后同意拍摄      山东省       故事影片      2019年03月11日-03月20日   \n",
       "475           邢挺进       同意拍摄      陕西省       故事影片      2019年03月11日-03月20日   \n",
       "476           王晓彬       同意拍摄      陕西省       故事影片      2019年03月11日-03月20日   \n",
       "499           王维忠       同意拍摄       直备       故事影片      2019年03月11日-03月20日   \n",
       "\n",
       "              ann_date  \n",
       "0    2019-06-18 16:32   \n",
       "105  2019-06-18 16:32   \n",
       "107  2019-06-18 16:32   \n",
       "108  2019-06-18 16:32   \n",
       "109  2019-06-18 16:32   \n",
       "..                 ...  \n",
       "473  2019-04-15 10:58   \n",
       "474  2019-04-15 10:58   \n",
       "475  2019-04-15 10:58   \n",
       "476  2019-04-15 10:58   \n",
       "499  2019-04-15 10:58   \n",
       "\n",
       "[500 rows x 9 columns]"
      ]
     },
     "execution_count": 40,
     "metadata": {},
     "output_type": "execute_result"
    }
   ],
   "source": [
    "film_record.sort_values(by='ann_date', ascending=False, inplace=True)\n",
    "film_record"
   ]
  },
  {
   "cell_type": "markdown",
   "metadata": {
    "hidden": true
   },
   "source": [
    "可以看到，数据只到2019年6月18日公示的备案。  \n",
    "而国家电影局最新的公示时间是到2020年1月6日。  \n"
   ]
  },
  {
   "cell_type": "markdown",
   "metadata": {},
   "source": [
    "# 爬虫爬取国家电影局备案公示数据"
   ]
  },
  {
   "cell_type": "code",
   "execution_count": 5,
   "metadata": {},
   "outputs": [],
   "source": [
    "import requests\n",
    "import json\n",
    "from bs4 import BeautifulSoup\n",
    "import pandas as pd\n",
    "import re"
   ]
  },
  {
   "cell_type": "markdown",
   "metadata": {},
   "source": [
    "## 获取公示列表及公示时间"
   ]
  },
  {
   "cell_type": "code",
   "execution_count": 6,
   "metadata": {
    "scrolled": true
   },
   "outputs": [],
   "source": [
    "user_agent = 'Mozilla/5.0 (Macintosh; Intel Mac OS X 10_15_3) AppleWebKit/537.36 (KHTML, like Gecko) Chrome/79.0.3945.130 Safari/537.36'\n",
    "headers = {\n",
    "    'User-Agent': user_agent\n",
    "}\n",
    "\n",
    "session = requests.session()"
   ]
  },
  {
   "cell_type": "code",
   "execution_count": 7,
   "metadata": {
    "scrolled": true
   },
   "outputs": [
    {
     "data": {
      "text/html": [
       "<div>\n",
       "<style scoped>\n",
       "    .dataframe tbody tr th:only-of-type {\n",
       "        vertical-align: middle;\n",
       "    }\n",
       "\n",
       "    .dataframe tbody tr th {\n",
       "        vertical-align: top;\n",
       "    }\n",
       "\n",
       "    .dataframe thead th {\n",
       "        text-align: right;\n",
       "    }\n",
       "</style>\n",
       "<table border=\"1\" class=\"dataframe\">\n",
       "  <thead>\n",
       "    <tr style=\"text-align: right;\">\n",
       "      <th></th>\n",
       "      <th>detail_page_url</th>\n",
       "      <th>ann_date</th>\n",
       "    </tr>\n",
       "  </thead>\n",
       "  <tbody>\n",
       "    <tr>\n",
       "      <td>0</td>\n",
       "      <td>http://www.chinafilm.gov.cn/chinafilm/contents...</td>\n",
       "      <td>20200106</td>\n",
       "    </tr>\n",
       "    <tr>\n",
       "      <td>1</td>\n",
       "      <td>http://www.chinafilm.gov.cn/chinafilm/contents...</td>\n",
       "      <td>20191211</td>\n",
       "    </tr>\n",
       "    <tr>\n",
       "      <td>2</td>\n",
       "      <td>http://www.chinafilm.gov.cn/chinafilm/contents...</td>\n",
       "      <td>20191122</td>\n",
       "    </tr>\n",
       "    <tr>\n",
       "      <td>3</td>\n",
       "      <td>http://www.chinafilm.gov.cn/chinafilm/contents...</td>\n",
       "      <td>20191023</td>\n",
       "    </tr>\n",
       "    <tr>\n",
       "      <td>4</td>\n",
       "      <td>http://www.chinafilm.gov.cn/chinafilm/contents...</td>\n",
       "      <td>20190923</td>\n",
       "    </tr>\n",
       "    <tr>\n",
       "      <td>5</td>\n",
       "      <td>http://www.chinafilm.gov.cn/chinafilm/contents...</td>\n",
       "      <td>20190912</td>\n",
       "    </tr>\n",
       "    <tr>\n",
       "      <td>6</td>\n",
       "      <td>http://www.chinafilm.gov.cn/chinafilm/contents...</td>\n",
       "      <td>20190827</td>\n",
       "    </tr>\n",
       "    <tr>\n",
       "      <td>7</td>\n",
       "      <td>http://www.chinafilm.gov.cn/chinafilm/contents...</td>\n",
       "      <td>20190815</td>\n",
       "    </tr>\n",
       "    <tr>\n",
       "      <td>8</td>\n",
       "      <td>http://www.chinafilm.gov.cn/chinafilm/contents...</td>\n",
       "      <td>20190801</td>\n",
       "    </tr>\n",
       "    <tr>\n",
       "      <td>9</td>\n",
       "      <td>http://www.chinafilm.gov.cn/chinafilm/contents...</td>\n",
       "      <td>20190725</td>\n",
       "    </tr>\n",
       "    <tr>\n",
       "      <td>10</td>\n",
       "      <td>http://www.chinafilm.gov.cn/chinafilm/contents...</td>\n",
       "      <td>20190716</td>\n",
       "    </tr>\n",
       "    <tr>\n",
       "      <td>11</td>\n",
       "      <td>http://www.chinafilm.gov.cn/chinafilm/contents...</td>\n",
       "      <td>20190704</td>\n",
       "    </tr>\n",
       "    <tr>\n",
       "      <td>12</td>\n",
       "      <td>http://www.chinafilm.gov.cn/chinafilm/contents...</td>\n",
       "      <td>20190618</td>\n",
       "    </tr>\n",
       "    <tr>\n",
       "      <td>13</td>\n",
       "      <td>http://www.chinafilm.gov.cn/chinafilm/contents...</td>\n",
       "      <td>20190522</td>\n",
       "    </tr>\n",
       "    <tr>\n",
       "      <td>14</td>\n",
       "      <td>http://www.chinafilm.gov.cn/chinafilm/contents...</td>\n",
       "      <td>20190510</td>\n",
       "    </tr>\n",
       "    <tr>\n",
       "      <td>15</td>\n",
       "      <td>http://www.chinafilm.gov.cn/chinafilm/contents...</td>\n",
       "      <td>20190424</td>\n",
       "    </tr>\n",
       "    <tr>\n",
       "      <td>16</td>\n",
       "      <td>http://www.chinafilm.gov.cn/chinafilm/contents...</td>\n",
       "      <td>20190415</td>\n",
       "    </tr>\n",
       "    <tr>\n",
       "      <td>17</td>\n",
       "      <td>http://www.chinafilm.gov.cn/chinafilm/contents...</td>\n",
       "      <td>20190326</td>\n",
       "    </tr>\n",
       "    <tr>\n",
       "      <td>18</td>\n",
       "      <td>http://www.chinafilm.gov.cn/chinafilm/contents...</td>\n",
       "      <td>20190311</td>\n",
       "    </tr>\n",
       "    <tr>\n",
       "      <td>19</td>\n",
       "      <td>http://www.chinafilm.gov.cn/chinafilm/contents...</td>\n",
       "      <td>20190307</td>\n",
       "    </tr>\n",
       "    <tr>\n",
       "      <td>20</td>\n",
       "      <td>http://www.chinafilm.gov.cn/chinafilm/contents...</td>\n",
       "      <td>20190215</td>\n",
       "    </tr>\n",
       "    <tr>\n",
       "      <td>21</td>\n",
       "      <td>http://www.chinafilm.gov.cn/chinafilm/contents...</td>\n",
       "      <td>20190131</td>\n",
       "    </tr>\n",
       "    <tr>\n",
       "      <td>22</td>\n",
       "      <td>http://www.chinafilm.gov.cn/chinafilm/contents...</td>\n",
       "      <td>20190123</td>\n",
       "    </tr>\n",
       "  </tbody>\n",
       "</table>\n",
       "</div>"
      ],
      "text/plain": [
       "                                      detail_page_url  ann_date\n",
       "0   http://www.chinafilm.gov.cn/chinafilm/contents...  20200106\n",
       "1   http://www.chinafilm.gov.cn/chinafilm/contents...  20191211\n",
       "2   http://www.chinafilm.gov.cn/chinafilm/contents...  20191122\n",
       "3   http://www.chinafilm.gov.cn/chinafilm/contents...  20191023\n",
       "4   http://www.chinafilm.gov.cn/chinafilm/contents...  20190923\n",
       "5   http://www.chinafilm.gov.cn/chinafilm/contents...  20190912\n",
       "6   http://www.chinafilm.gov.cn/chinafilm/contents...  20190827\n",
       "7   http://www.chinafilm.gov.cn/chinafilm/contents...  20190815\n",
       "8   http://www.chinafilm.gov.cn/chinafilm/contents...  20190801\n",
       "9   http://www.chinafilm.gov.cn/chinafilm/contents...  20190725\n",
       "10  http://www.chinafilm.gov.cn/chinafilm/contents...  20190716\n",
       "11  http://www.chinafilm.gov.cn/chinafilm/contents...  20190704\n",
       "12  http://www.chinafilm.gov.cn/chinafilm/contents...  20190618\n",
       "13  http://www.chinafilm.gov.cn/chinafilm/contents...  20190522\n",
       "14  http://www.chinafilm.gov.cn/chinafilm/contents...  20190510\n",
       "15  http://www.chinafilm.gov.cn/chinafilm/contents...  20190424\n",
       "16  http://www.chinafilm.gov.cn/chinafilm/contents...  20190415\n",
       "17  http://www.chinafilm.gov.cn/chinafilm/contents...  20190326\n",
       "18  http://www.chinafilm.gov.cn/chinafilm/contents...  20190311\n",
       "19  http://www.chinafilm.gov.cn/chinafilm/contents...  20190307\n",
       "20  http://www.chinafilm.gov.cn/chinafilm/contents...  20190215\n",
       "21  http://www.chinafilm.gov.cn/chinafilm/contents...  20190131\n",
       "22  http://www.chinafilm.gov.cn/chinafilm/contents...  20190123"
      ]
     },
     "execution_count": 7,
     "metadata": {},
     "output_type": "execute_result"
    }
   ],
   "source": [
    "# 注意翻页\n",
    "# http://dy.chinasarft.gov.cn/shanty.deploy/catalog.nsp?id=0129dffcccb1015d402881cd29de91ec&pageIndex=1\n",
    "\n",
    "film_record_url_list = ['http://www.chinafilm.gov.cn/chinafilm/channels/167.shtml',\n",
    "                             'http://www.chinafilm.gov.cn/chinafilm/channels/167_2.shtml']\n",
    "\n",
    "detail_pages_df = pd.DataFrame(columns=('detail_page_url', 'ann_date'))\n",
    "\n",
    "for url in film_record_url_list:\n",
    "    film_record_list_res = session.get(url, headers=headers)\n",
    "    film_record_list_soup = BeautifulSoup(film_record_list_res.text, 'html.parser')\n",
    "    film_record_list = film_record_list_soup.find('ul',class_='m2ru1 m2ru11').find_all('li')\n",
    "\n",
    "    for i in range(len(film_record_list)):\n",
    "        film_record_detail_url = 'http://www.chinafilm.gov.cn' + \\\n",
    "                                 film_record_list[i].find('a',class_='m2r_a')['href']\n",
    "        film_record_detail_date = film_record_list[i].find_all('span')[1].text\n",
    "        # film_record_detail_date = datetime.datetime.strptime(film_record_detail_date, '%Y-%m-%d').date()\n",
    "        film_record_detail_date = ''.join(film_record_detail_date.split('-'))\n",
    "        \n",
    "        detail_pages_df = detail_pages_df.append({'detail_page_url':film_record_detail_url, 'ann_date':film_record_detail_date}, ignore_index=True)\n",
    "        # print(film_record_detail_url)\n",
    "        # print(film_record_detail_date)\n",
    "        \n",
    "detail_pages_df"
   ]
  },
  {
   "cell_type": "code",
   "execution_count": 8,
   "metadata": {
    "scrolled": true
   },
   "outputs": [
    {
     "data": {
      "text/html": [
       "<div>\n",
       "<style scoped>\n",
       "    .dataframe tbody tr th:only-of-type {\n",
       "        vertical-align: middle;\n",
       "    }\n",
       "\n",
       "    .dataframe tbody tr th {\n",
       "        vertical-align: top;\n",
       "    }\n",
       "\n",
       "    .dataframe thead th {\n",
       "        text-align: right;\n",
       "    }\n",
       "</style>\n",
       "<table border=\"1\" class=\"dataframe\">\n",
       "  <thead>\n",
       "    <tr style=\"text-align: right;\">\n",
       "      <th></th>\n",
       "      <th>detail_page_url</th>\n",
       "      <th>ann_date</th>\n",
       "    </tr>\n",
       "  </thead>\n",
       "  <tbody>\n",
       "    <tr>\n",
       "      <td>2</td>\n",
       "      <td>http://www.chinafilm.gov.cn/chinafilm/contents...</td>\n",
       "      <td>20191122</td>\n",
       "    </tr>\n",
       "    <tr>\n",
       "      <td>3</td>\n",
       "      <td>http://www.chinafilm.gov.cn/chinafilm/contents...</td>\n",
       "      <td>20191023</td>\n",
       "    </tr>\n",
       "    <tr>\n",
       "      <td>4</td>\n",
       "      <td>http://www.chinafilm.gov.cn/chinafilm/contents...</td>\n",
       "      <td>20190923</td>\n",
       "    </tr>\n",
       "    <tr>\n",
       "      <td>5</td>\n",
       "      <td>http://www.chinafilm.gov.cn/chinafilm/contents...</td>\n",
       "      <td>20190912</td>\n",
       "    </tr>\n",
       "    <tr>\n",
       "      <td>6</td>\n",
       "      <td>http://www.chinafilm.gov.cn/chinafilm/contents...</td>\n",
       "      <td>20190827</td>\n",
       "    </tr>\n",
       "    <tr>\n",
       "      <td>7</td>\n",
       "      <td>http://www.chinafilm.gov.cn/chinafilm/contents...</td>\n",
       "      <td>20190815</td>\n",
       "    </tr>\n",
       "    <tr>\n",
       "      <td>8</td>\n",
       "      <td>http://www.chinafilm.gov.cn/chinafilm/contents...</td>\n",
       "      <td>20190801</td>\n",
       "    </tr>\n",
       "    <tr>\n",
       "      <td>9</td>\n",
       "      <td>http://www.chinafilm.gov.cn/chinafilm/contents...</td>\n",
       "      <td>20190725</td>\n",
       "    </tr>\n",
       "    <tr>\n",
       "      <td>10</td>\n",
       "      <td>http://www.chinafilm.gov.cn/chinafilm/contents...</td>\n",
       "      <td>20190716</td>\n",
       "    </tr>\n",
       "    <tr>\n",
       "      <td>11</td>\n",
       "      <td>http://www.chinafilm.gov.cn/chinafilm/contents...</td>\n",
       "      <td>20190704</td>\n",
       "    </tr>\n",
       "    <tr>\n",
       "      <td>12</td>\n",
       "      <td>http://www.chinafilm.gov.cn/chinafilm/contents...</td>\n",
       "      <td>20190618</td>\n",
       "    </tr>\n",
       "    <tr>\n",
       "      <td>13</td>\n",
       "      <td>http://www.chinafilm.gov.cn/chinafilm/contents...</td>\n",
       "      <td>20190522</td>\n",
       "    </tr>\n",
       "    <tr>\n",
       "      <td>14</td>\n",
       "      <td>http://www.chinafilm.gov.cn/chinafilm/contents...</td>\n",
       "      <td>20190510</td>\n",
       "    </tr>\n",
       "    <tr>\n",
       "      <td>15</td>\n",
       "      <td>http://www.chinafilm.gov.cn/chinafilm/contents...</td>\n",
       "      <td>20190424</td>\n",
       "    </tr>\n",
       "    <tr>\n",
       "      <td>16</td>\n",
       "      <td>http://www.chinafilm.gov.cn/chinafilm/contents...</td>\n",
       "      <td>20190415</td>\n",
       "    </tr>\n",
       "    <tr>\n",
       "      <td>17</td>\n",
       "      <td>http://www.chinafilm.gov.cn/chinafilm/contents...</td>\n",
       "      <td>20190326</td>\n",
       "    </tr>\n",
       "    <tr>\n",
       "      <td>18</td>\n",
       "      <td>http://www.chinafilm.gov.cn/chinafilm/contents...</td>\n",
       "      <td>20190311</td>\n",
       "    </tr>\n",
       "    <tr>\n",
       "      <td>19</td>\n",
       "      <td>http://www.chinafilm.gov.cn/chinafilm/contents...</td>\n",
       "      <td>20190307</td>\n",
       "    </tr>\n",
       "    <tr>\n",
       "      <td>20</td>\n",
       "      <td>http://www.chinafilm.gov.cn/chinafilm/contents...</td>\n",
       "      <td>20190215</td>\n",
       "    </tr>\n",
       "  </tbody>\n",
       "</table>\n",
       "</div>"
      ],
      "text/plain": [
       "                                      detail_page_url  ann_date\n",
       "2   http://www.chinafilm.gov.cn/chinafilm/contents...  20191122\n",
       "3   http://www.chinafilm.gov.cn/chinafilm/contents...  20191023\n",
       "4   http://www.chinafilm.gov.cn/chinafilm/contents...  20190923\n",
       "5   http://www.chinafilm.gov.cn/chinafilm/contents...  20190912\n",
       "6   http://www.chinafilm.gov.cn/chinafilm/contents...  20190827\n",
       "7   http://www.chinafilm.gov.cn/chinafilm/contents...  20190815\n",
       "8   http://www.chinafilm.gov.cn/chinafilm/contents...  20190801\n",
       "9   http://www.chinafilm.gov.cn/chinafilm/contents...  20190725\n",
       "10  http://www.chinafilm.gov.cn/chinafilm/contents...  20190716\n",
       "11  http://www.chinafilm.gov.cn/chinafilm/contents...  20190704\n",
       "12  http://www.chinafilm.gov.cn/chinafilm/contents...  20190618\n",
       "13  http://www.chinafilm.gov.cn/chinafilm/contents...  20190522\n",
       "14  http://www.chinafilm.gov.cn/chinafilm/contents...  20190510\n",
       "15  http://www.chinafilm.gov.cn/chinafilm/contents...  20190424\n",
       "16  http://www.chinafilm.gov.cn/chinafilm/contents...  20190415\n",
       "17  http://www.chinafilm.gov.cn/chinafilm/contents...  20190326\n",
       "18  http://www.chinafilm.gov.cn/chinafilm/contents...  20190311\n",
       "19  http://www.chinafilm.gov.cn/chinafilm/contents...  20190307\n",
       "20  http://www.chinafilm.gov.cn/chinafilm/contents...  20190215"
      ]
     },
     "execution_count": 8,
     "metadata": {},
     "output_type": "execute_result"
    }
   ],
   "source": [
    "detail_pages_df.loc[(detail_pages_df['ann_date']>'20190201') & (detail_pages_df['ann_date']<'20191201')]"
   ]
  },
  {
   "cell_type": "code",
   "execution_count": 9,
   "metadata": {},
   "outputs": [
    {
     "data": {
      "text/plain": [
       "'20200106'"
      ]
     },
     "execution_count": 9,
     "metadata": {},
     "output_type": "execute_result"
    }
   ],
   "source": [
    "detail_pages_df.loc[0][1]"
   ]
  },
  {
   "cell_type": "markdown",
   "metadata": {},
   "source": [
    "## 获取每次公示的电影列表"
   ]
  },
  {
   "cell_type": "markdown",
   "metadata": {},
   "source": [
    "### 时间转化为datetime.date"
   ]
  },
  {
   "cell_type": "code",
   "execution_count": 10,
   "metadata": {},
   "outputs": [
    {
     "name": "stdout",
     "output_type": "stream",
     "text": [
      "http://www.chinafilm.gov.cn/chinafilm/contents/167/2207.shtml\n",
      "2020-01-06\n"
     ]
    }
   ],
   "source": [
    "film_record_detail_url = 'http://www.chinafilm.gov.cn/chinafilm/contents/167/2207.shtml'\n",
    "film_record_detail_date = '2020-01-06'\n",
    "print(film_record_detail_url)\n",
    "print(film_record_detail_date)"
   ]
  },
  {
   "cell_type": "code",
   "execution_count": 11,
   "metadata": {},
   "outputs": [
    {
     "data": {
      "text/plain": [
       "datetime.date(2020, 1, 6)"
      ]
     },
     "execution_count": 11,
     "metadata": {},
     "output_type": "execute_result"
    }
   ],
   "source": [
    "film_record_detail_date = datetime.datetime.strptime(film_record_detail_date, '%Y-%m-%d').date()\n",
    "film_record_detail_date"
   ]
  },
  {
   "cell_type": "markdown",
   "metadata": {},
   "source": [
    "### 用BeautifulSoup获取"
   ]
  },
  {
   "cell_type": "code",
   "execution_count": 12,
   "metadata": {},
   "outputs": [
    {
     "data": {
      "text/plain": [
       "'http://www.chinafilm.gov.cn/chinafilm/contents/167/2207.shtml'"
      ]
     },
     "execution_count": 12,
     "metadata": {},
     "output_type": "execute_result"
    }
   ],
   "source": [
    "film_record_detail_url"
   ]
  },
  {
   "cell_type": "code",
   "execution_count": 13,
   "metadata": {},
   "outputs": [],
   "source": [
    "film_record_detail_res = session.get(film_record_detail_url,headers=headers)\n",
    "film_record_detail_res.encoding = 'UTF-8'\n",
    "film_record_detail_soup = BeautifulSoup(film_record_detail_res.text, 'html.parser')"
   ]
  },
  {
   "cell_type": "code",
   "execution_count": 14,
   "metadata": {},
   "outputs": [
    {
     "data": {
      "text/plain": [
       "'2019年08月21日-08月31日'"
      ]
     },
     "execution_count": 14,
     "metadata": {},
     "output_type": "execute_result"
    }
   ],
   "source": [
    "date_range = film_record_detail_soup.find('div', id='body').find_all('p')[2].text[:18]\n",
    "date_range"
   ]
  },
  {
   "cell_type": "code",
   "execution_count": 15,
   "metadata": {},
   "outputs": [],
   "source": [
    "film_type_tables = film_record_detail_soup.find('div',class_='hmc4Box2').find_all('div',class_='hmc4Table')\n",
    "\n",
    "for film_type_table in film_type_tables:\n",
    "    film_urls = film_type_table.find_all('a',class_='kk')\n",
    "    for film_url in film_urls:\n",
    "        film_url = 'http://www.chinafilm.gov.cn' + film_url['href']\n",
    "        # print(film_url)"
   ]
  },
  {
   "cell_type": "code",
   "execution_count": 16,
   "metadata": {},
   "outputs": [],
   "source": [
    "url = ''"
   ]
  },
  {
   "cell_type": "markdown",
   "metadata": {
    "heading_collapsed": true
   },
   "source": [
    "### 用Selenium获取（淘汰）"
   ]
  },
  {
   "cell_type": "code",
   "execution_count": 17,
   "metadata": {
    "hidden": true
   },
   "outputs": [],
   "source": [
    "# from selenium import webdriver\n",
    "# import time"
   ]
  },
  {
   "cell_type": "code",
   "execution_count": 18,
   "metadata": {
    "hidden": true
   },
   "outputs": [],
   "source": [
    "# 打开网页\n",
    "# driver = webdriver.Chrome()\n",
    "# driver.get(film_record_detail_url)\n",
    "# time.sleep(2)\n",
    "\n",
    "# film_type = driver.find_element_by_class_name('hmc4ChgBtn')\n",
    "# print(film_type.text)\n",
    "\n",
    "# driver.close()"
   ]
  },
  {
   "cell_type": "markdown",
   "metadata": {},
   "source": [
    "## 获取每部公示电影的具体信息"
   ]
  },
  {
   "cell_type": "code",
   "execution_count": 19,
   "metadata": {
    "scrolled": true
   },
   "outputs": [
    {
     "data": {
      "text/plain": [
       "'http://www.chinafilm.gov.cn/chinafilm/utils/serviceContent.shtml?ID=3876'"
      ]
     },
     "execution_count": 19,
     "metadata": {},
     "output_type": "execute_result"
    }
   ],
   "source": [
    "film_url"
   ]
  },
  {
   "cell_type": "code",
   "execution_count": 42,
   "metadata": {},
   "outputs": [
    {
     "data": {
      "text/plain": [
       "'<!doctype html>\\r\\n<html lang=\"zh\">\\r\\n<head>\\r\\n<meta charset=\"UTF-8\">\\r\\n<meta http-equiv=\"X-UA-Compatible\" content=\"IE=edge,chrome=1\"> \\r\\n<meta name=\"viewport\" content=\"width=device-width, initial-scale=1.0\">\\r\\n<title>å¤\\x87æ¡\\x88å\\x85¬ç¤ºæ\\x9f¥è¯¢ç»\\x93æ\\x9e\\x9c-å\\x9b½å®¶ç\\x94µå½±å±\\x80</title>\\r\\n<link rel=\"stylesheet\" href=\"../css/public.css\">\\r\\n<link rel=\"stylesheet\" href=\"../css/style.css\">\\r\\n</head>\\r\\n\\r\\n\\r\\n<body>\\r\\n<script src=\"http://59.252.100.27/sitefiles/assets/components/jquery-1.9.1.min.js\" type=\"text/javascript\"></script><script src=\"http://59.252.100.27/sitefiles/assets/components/lodash-4.17.4.min.js\" type=\"text/javascript\"></script><script src=\"http://59.252.100.27/sitefiles/assets/components/stlClient.js\" type=\"text/javascript\"></script>\\r\\n\\r\\n<!---head--->\\r\\n<div class=\"hmBan\">\\r\\n  <div class=\"bgImg\"> <img src=\"/chinafilm/images/banBg.jpg\" width=\"2000\" height=\"351\"> </div>\\r\\n  <div class=\"serBox\">\\r\\n    <div>\\r\\n    <form id=\"submitForm\" method=\"get\" action=\"/chinafilm/utils/search.shtml\" target=\"_blank\">\\r\\n      <input class=\"serInt\" placeholder=\"è¯·è¾\\x93å\\x85¥å\\x85³é\\x94®å\\xad\\x97\" id=\"word\" name=\"word\" type=\"text\"><input type=\"hidden\" name=\"type\" value=\"Title\" /> \\r\\n      <a class=\"serBtn\" href=\"javascript:void(0);\" onclick=\"if ($(\\'#word\\').val()) {document.getElementById(\\'submitForm\\').submit()} else {alert(\\'è¯·è¾\\x93å\\x85¥æ\\x82¨è¦\\x81æ\\x90\\x9cç´¢ç\\x9a\\x84å\\x86\\x85å®¹\\');};return false;\"></a>  \\r\\n    </form>      \\r\\n      </div>\\r\\n  </div>\\r\\n  <img class=\"banTxt\" src=\"/chinafilm/images/banTxt.png\" width=\"606\" height=\"117\"> </div>\\r\\n<!--<div class=\"nav\">\\r\\n<a class=\"nav_a\" href=\"/chinafilm/\">é¦\\x96 é¡µ</a>\\r\\n\\r\\n<a class=\"nav_a\" href=\"/chinafilm/channels/138.shtml\">æ\\x96°é\\x97»èµ\\x84è®¯</a>\\r\\n\\r\\n<a class=\"nav_a\" href=\"/chinafilm/channels/150.shtml\">ä¿¡æ\\x81¯å\\x85¬å¼\\x80</a>\\r\\n\\r\\n<a class=\"nav_a\" href=\"/chinafilm/channels/175.shtml\">å\\x8a\\x9eäº\\x8bæ\\x9c\\x8då\\x8a¡</a>\\r\\n\\r\\n</div>\\r\\n-->\\r\\n<div class=\"navBg\">\\r\\n<div class=\"container navWrapper navBg\">\\r\\n<div class=\"nav\"> \\r\\n<ul>\\r\\n<li><a class=\"nav_a\" href=\"/chinafilm/\">é¦\\x96 é¡µ</a></li>                           \\r\\n\\r\\n  \\r\\n  <li><a class=\"nav_a\" href=\"/chinafilm/channels/138.shtml\">æ\\x96°é\\x97»èµ\\x84è®¯</a>\\r\\n  <div class=\"subMenu dsNone\">\\r\\n  \\r\\n  <dl>\\r\\n   <dt>&nbsp;â\\x80¢&nbsp;<a href=\"/chinafilm/channels/138.shtml\">ä¸\\xadå¤®ç²¾ç¥\\x9e</a></dt>\\r\\n  </dl>\\r\\n  \\r\\n  <dl>\\r\\n   <dt>&nbsp;â\\x80¢&nbsp;<a href=\"/chinafilm/channels/141.shtml\">è¦\\x81é\\x97»ä¿¡æ\\x81¯</a></dt>\\r\\n  </dl>\\r\\n  \\r\\n  <dl>\\r\\n   <dt>&nbsp;â\\x80¢&nbsp;<a href=\"/chinafilm/channels/142.shtml\">å·¥ä½\\x9cå\\x8a¨æ\\x80\\x81</a></dt>\\r\\n  </dl>\\r\\n  \\r\\n  <dl>\\r\\n   <dt>&nbsp;â\\x80¢&nbsp;<a href=\"/chinafilm/channels/143.shtml\">å\\x9b¾ç\\x89\\x87</a></dt>\\r\\n  </dl>\\r\\n  \\r\\n  <dl>\\r\\n   <dt>&nbsp;â\\x80¢&nbsp;<a href=\"/chinafilm/channels/144.shtml\">è§\\x86é¢\\x91</a></dt>\\r\\n  </dl>\\r\\n  \\r\\n  <dl>\\r\\n   <dt>&nbsp;â\\x80¢&nbsp;<a href=\"/chinafilm/channels/145.shtml\">ä¸\\x93é¢\\x98ä¸\\x93æ\\xa0\\x8f</a></dt>\\r\\n  </dl>\\r\\n  \\r\\n  </div>\\r\\n  </li>\\r\\n  \\r\\n  <li><a class=\"nav_a\" href=\"/chinafilm/channels/150.shtml\">ä¿¡æ\\x81¯å\\x85¬å¼\\x80</a>\\r\\n  <div class=\"subMenu dsNone\">\\r\\n  \\r\\n  <dl>\\r\\n   <dt>&nbsp;â\\x80¢&nbsp;<a href=\"/chinafilm/channels/150.shtml\">è\\x81\\x8cè\\x83½ä»\\x8bç»\\x8d</a></dt>\\r\\n  </dl>\\r\\n  \\r\\n  <dl>\\r\\n   <dt>&nbsp;â\\x80¢&nbsp;<a href=\"/chinafilm/channels/153.shtml\">å·¥ä½\\x9cé\\x80\\x9aç\\x9f¥</a></dt>\\r\\n  </dl>\\r\\n  \\r\\n  <dl>\\r\\n   <dt>&nbsp;â\\x80¢&nbsp;<a href=\"/chinafilm/channels/155.shtml\">æ\\x94¿ç\\xad\\x96æ³\\x95è§\\x84</a></dt>\\r\\n  </dl>\\r\\n  \\r\\n  <dl>\\r\\n   <dt>&nbsp;â\\x80¢&nbsp;<a href=\"/chinafilm/channels/167.shtml\">å\\x85¬ç¤ºä¿¡æ\\x81¯</a></dt>\\r\\n  </dl>\\r\\n  \\r\\n  </div>\\r\\n  </li>\\r\\n  \\r\\n  <li><a class=\"nav_a\" href=\"/chinafilm/channels/175.shtml\">å\\x8a\\x9eäº\\x8bæ\\x9c\\x8då\\x8a¡</a>\\r\\n  <div class=\"subMenu dsNone\">\\r\\n  \\r\\n  <dl>\\r\\n   <dt>&nbsp;â\\x80¢&nbsp;<a href=\"/chinafilm/channels/175.shtml\">è¡\\x8cæ\\x94¿å®¡æ\\x89¹äº\\x8bé¡¹æ¸\\x85å\\x8d\\x95</a></dt>\\r\\n  </dl>\\r\\n  \\r\\n  <dl>\\r\\n   <dt>&nbsp;â\\x80¢&nbsp;<a href=\"/chinafilm/channels/215.shtml\">å\\x8a\\x9eäº\\x8bå¯¼è\\x88ª</a></dt>\\r\\n  </dl>\\r\\n  \\r\\n  <dl>\\r\\n   <dt>&nbsp;â\\x80¢&nbsp;<a href=\"/chinafilm/channels/216.shtml\">å\\x8a\\x9eäº\\x8bé¡»ç\\x9f¥</a></dt>\\r\\n  </dl>\\r\\n  \\r\\n  <dl>\\r\\n   <dt>&nbsp;â\\x80¢&nbsp;<a href=\"http://dy.chinasarft.gov.cn/\">ç\\x94µå½±ç\\x94µå\\xad\\x90æ\\x94¿å\\x8a¡å¹³å\\x8f°</a></dt>\\r\\n  </dl>\\r\\n  \\r\\n  </div>\\r\\n  </li>\\r\\n  \\r\\n  \\r\\n </ul>\\r\\n</div>\\r\\n </div> \\r\\n</div>\\r\\n\\r\\n<!---head END--->  \\r\\n<div class=\"container minContainer\">\\r\\n<div class=\"m2main\">\\r\\n<div class=\"m2pos\">\\r\\n\\r\\n</div>\\r\\n<div class=\"m2Con clearfix\">\\r\\n\\r\\n<form id=\"form1\" runat=\"server\">\\r\\n    <div class=\"cFrame nFrame\">\\r\\n      <h3 style=\"text-align: left; color: #0F61A5; padding-left: 50px; padding-bottom: 20px; font-size: 20px\"> å¤\\x87æ¡\\x88å\\x85¬ç¤ºæ\\x9f¥è¯¢ç»\\x93æ\\x9e\\x9c</h3>\\r\\n      \\n<span id=\"ajaxElement_2_237_loading\"></span>\\n<span id=\"ajaxElement_2_237_success\" style=\"display: none\"></span>\\n<span id=\"ajaxElement_2_237_failure\" style=\"display: none\"></span>\\n<script type=\"text/javascript\" language=\"javascript\">\\nfunction stlDynamicajaxElement_2_237(page)\\n{\\n    document.getElementById(\\'ajaxElement_2_237_loading\\').style.display = \\'block\\';\\n    document.getElementById(\\'ajaxElement_2_237_success\\').style.display = \\'none\\';\\n    document.getElementById(\\'ajaxElement_2_237_failure\\').style.display = \\'none\\';\\n    \\n    stlClient.post(\\'http://59.252.100.27/api/sys/stl/actions/dynamic?\\' + StlClient.getQueryString(), {\\n        value: \\'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\\',\\n        page: page\\n    }, function (err, data, status) {\\n        if (!err) {\\n            if (data.value) {\\n                \\n                document.getElementById(\\'ajaxElement_2_237_success\\').innerHTML = data.html;\\n                document.getElementById(\\'ajaxElement_2_237_success\\').style.display = \\'block\\';\\n            } else {\\n                document.getElementById(\\'ajaxElement_2_237_failure\\').innerHTML = data.html;\\n                document.getElementById(\\'ajaxElement_2_237_failure\\').style.display = \\'block\\';\\n            }\\n        } else {\\n            \\n        }\\n        \\n    });\\n}\\n\\nfunction stlGetPageajaxElement_2_237(){\\n    var page = 1;\\n    var queryString = document.location.search;\\n    if (queryString && queryString.length > 1) {\\n        queryString = queryString.substring(1);\\n        var arr = queryString.split(\\'&\\');\\n        for(var i=0; i < arr.length; i++) {\\n            var item = arr[i];\\n            var arr2 = item.split(\\'=\\');\\n            if (arr2 && arr2.length == 2) {\\n                if (arr2[0] === \\'page\\') {\\n                    page = parseInt(arr2[1]);\\n                }\\n            }\\n        }\\n    }\\n    return page;\\n}\\n\\nstlDynamicajaxElement_2_237(stlGetPageajaxElement_2_237());\\n\\nfunction stlRedirectajaxElement_2_237(page)\\n{\\n    var queryString = document.location.search;\\n    var parameters = \\'\\';\\n    if (queryString && queryString.length > 1) {\\n        queryString = queryString.substring(1);\\n        \\n        var arr = queryString.split(\\'&\\');\\n        for(var i=0; i < arr.length; i++) {\\n            var item = arr[i];\\n            var arr2 = item.split(\\'=\\');\\n            if (arr2 && arr2.length == 2) {\\n                if (arr2[0] !== \\'page\\') {\\n                    parameters += item + \\'&\\';\\n                }\\n            }\\n        }\\n    }\\n    parameters += \\'page=\\' + page;\\n    location.href = location.protocol + \\'//\\' + location.host + location.pathname + location.hash + \\'?\\' + parameters;\\n}\\n</script>\\n </div>\\r\\n  </form>\\r\\n\\r\\n</div>\\r\\n</div>\\r\\n</div>\\r\\n<!---foot--->\\r\\n<div class=\"container webBomWrp\">\\r\\n<div class=\"webBom clearfix\">\\r\\n<span class=\"webBsel\">\\r\\n<span class=\"webSval\">ç\\x94µå½±ç\\x9b´å±\\x9eå\\x8d\\x95ä½\\x8dç½\\x91ç«\\x99</span>\\r\\n<div class=\"webSelOpt\">\\r\\n\\r\\n<a class=\"webSel_a\" target=\"_blank\" href=\"http://www.crifst.ac.cn/\">ç\\x94µå½±ç§\\x91å\\xad¦æ\\x8a\\x80æ\\x9c¯ç\\xa0\\x94ç©¶æ\\x89\\x80</a>\\r\\n\\r\\n<a class=\"webSel_a\" target=\"_blank\" href=\"http://www.crifst.ac.cn/\">ç\\x94µå½±æ\\x8a\\x80æ\\x9c¯è´¨é\\x87\\x8fæ£\\x80æµ\\x8bæ\\x89\\x80</a>\\r\\n\\r\\n<a class=\"webSel_a\" target=\"_blank\" href=\"https://www.cfa.org.cn/\">ä¸\\xadå\\x9b½ç\\x94µå½±èµ\\x84æ\\x96\\x99é¦\\x86ï¼\\x88ä¸\\xadå\\x9b½ç\\x94µå½±è\\x89ºæ\\x9c¯ç\\xa0\\x94ç©¶ä¸\\xadå¿\\x83ï¼\\x89</a>\\r\\n\\r\\n<a class=\"webSel_a\" target=\"_blank\" href=\"http://www.dyjbzx.org.cn/\">ç\\x94µå½±å\\x89§æ\\x9c¬è§\\x84å\\x88\\x92ç\\xad\\x96å\\x88\\x92ä¸\\xadå¿\\x83</a>\\r\\n\\r\\n<a class=\"webSel_a\" target=\"_blank\" href=\"http://www.dmcc.org.cn/mainSite/indexSite.html\">ç\\x94µå½±æ\\x95°å\\xad\\x97è\\x8a\\x82ç\\x9b®ç®¡ç\\x90\\x86ä¸\\xadå¿\\x83</a>\\r\\n\\r\\n<a class=\"webSel_a\" target=\"_blank\" href=\"https://zgdypw.cn/\">å\\x9b½å®¶ç\\x94µå½±å\\x8f\\x91å±\\x95ä¸\\x93é¡¹èµ\\x84é\\x87\\x91ç®¡ç\\x90\\x86å\\x8a\\x9eå\\x85¬å®¤</a>\\r\\n\\r\\n<a class=\"webSel_a\" target=\"_blank\" href=\"http://www.1905.com\">ç\\x94µå½±å\\x8d«æ\\x98\\x9fé¢\\x91é\\x81\\x93è\\x8a\\x82ç\\x9b®å\\x88¶ä½\\x9cä¸\\xadå¿\\x83</a>\\r\\n\\r\\n<a class=\"webSel_a\" target=\"_blank\">ä¸\\xadå\\x9b½ç\\x94µå½±é\\x9b\\x86å\\x9b¢å\\x85¬å\\x8f¸</a>\\r\\n\\r\\n<a class=\"webSel_a\" target=\"_blank\" href=\"http://www.zgdygf.com/\">ä¸\\xadå\\x9b½ç\\x94µå½±è\\x82¡ä»½æ\\x9c\\x89é\\x99\\x90å\\x85¬å\\x8f¸</a>\\r\\n\\r\\n<a class=\"webSel_a\" target=\"_blank\">å\\x8d\\x8eå¤\\x8fç\\x94µå½±å\\x8f\\x91è¡\\x8cæ\\x9c\\x89é\\x99\\x90å\\x85¬å\\x8f¸</a>\\r\\n\\r\\n</div>\\r\\n</span>\\r\\n<span class=\"webBsel\">\\r\\n<span class=\"webSval\">ç\\x9b¸å\\x85³å\\x8d\\x8fä¼\\x9aå\\xad¦ä¼\\x9aç½\\x91ç«\\x99</span>\\r\\n<div class=\"webSelOpt\">\\r\\n\\r\\n<a class=\"webSel_a\" target=\"_blank\" href=\"http://www.zgdydyxh.com/\">ä¸\\xadå\\x9b½ç\\x94µå½±å¯¼æ¼\\x94å\\x8d\\x8fä¼\\x9a</a>\\r\\n\\r\\n<a class=\"webSel_a\" target=\"_blank\" href=\"http://www.cchfa.cn/\">ä¸\\xadå\\x9b½å\\x84¿ç«¥å°\\x91å¹´ç\\x94µå½±å\\xad¦ä¼\\x9a</a>\\r\\n\\r\\n<a class=\"webSel_a\" target=\"_blank\" href=\"http://www.chinafilm.org.cn/\">ä¸\\xadå\\x9b½ç\\x94µå½±å\\x8f\\x91è¡\\x8cæ\\x94¾æ\\x98\\xa0å\\x8d\\x8fä¼\\x9a</a>\\r\\n\\r\\n<a class=\"webSel_a\" target=\"_blank\" href=\"http://www.chinafilms.net/\">ä¸\\xadå\\x9b½ç\\x94µå½±å\\x88¶ç\\x89\\x87äººå\\x8d\\x8fä¼\\x9a</a>\\r\\n\\r\\n<a class=\"webSel_a\" target=\"_blank\" href=\"http://zgsjdyxh.com/\">ä¸\\xadå\\x9b½ä¸\\x96ç\\x95\\x8cç\\x94µå½±å\\xad¦ä¼\\x9a</a>\\r\\n\\r\\n<a class=\"webSel_a\" target=\"_blank\">ä¸\\xadå\\x9b½ç\\x94µå½±å\\x89ªè¾\\x91å\\xad¦ä¼\\x9a</a>\\r\\n\\r\\n<a class=\"webSel_a\" target=\"_blank\">ä¸\\xadå\\x9b½ç\\x94µå½±å\\x9fºé\\x87\\x91ä¼\\x9a</a>\\r\\n\\r\\n<a class=\"webSel_a\" target=\"_blank\" href=\"http://csu1983.com/\">ä¸\\xadå\\x9b½ç\\x94µå½±æ\\x96\\x87å\\xad¦å\\xad¦ä¼\\x9a</a>\\r\\n\\r\\n<a class=\"webSel_a\" target=\"_blank\" href=\"http://www.zgdyplxh.com/\">ä¸\\xadå\\x9b½ç\\x94µå½±è¯\\x84è®ºå\\xad¦ä¼\\x9a</a>\\r\\n\\r\\n<a class=\"webSel_a\" target=\"_blank\" href=\"http://www.1985byxh.com/\">ä¸\\xadå\\x9b½ç\\x94µå½±è¡¨æ¼\\x94è\\x89ºæ\\x9c¯å\\xad¦ä¼\\x9a</a>\\r\\n\\r\\n<a class=\"webSel_a\" target=\"_blank\">ä¸\\xadå\\x9b½å¤\\x8fè¡\\x8dç\\x94µå½±å\\xad¦ä¼\\x9a</a>\\r\\n\\r\\n<a class=\"webSel_a\" target=\"_blank\">ä¸\\xadå\\x9b½å\\x8f°æ¸¯ç\\x94µå½±ç\\xa0\\x94ç©¶ä¼\\x9a</a>\\r\\n\\r\\n<a class=\"webSel_a\" target=\"_blank\">ä¸\\xadå\\x9b½ç\\x94µå½±é\\x9f³ä¹\\x90å\\xad¦ä¼\\x9a</a>\\r\\n\\r\\n<a class=\"webSel_a\" target=\"_blank\">ä¸\\xadå\\x9b½ç\\x94µå½±ç¾\\x8eæ\\x9c¯å\\xad¦ä¼\\x9a</a>\\r\\n\\r\\n</div>\\r\\n</span>\\r\\n  <a href=\"https://zgdypw.cn/#/root.html\" class=\"webLink\" target=\"_blank\">ä¸\\xadå\\x9b½ç\\x94µå½±æ\\x95°æ\\x8d®ä¿¡æ\\x81¯ç½\\x91</a>\\r\\n</div>\\r\\n<div class=\"webBom_line\"></div>\\r\\n<div class=\"footer\">\\r\\n<div class=\"foot1\">\\r\\n<script type=\"text/javascript\">document.write(unescape(\"%3Cspan id=\\'_ideConac\\' %3E%3C/span%3E%3Cscript src=\\'http://dcs.conac.cn/js/33/000/0000/60933367/CA330000000609333670005.js\\' type=\\'text/javascript\\'%3E%3C/script%3E\"));</script>\\r\\n</div>\\r\\n<div class=\"foot2\">\\r\\nå\\x9b½å®¶ç\\x94µå½±å±\\x80 ä¸»å\\x8a\\x9eã\\x80\\x80ä¸\\xadå®£é\\x83¨æ\\x9cºå\\x85³æ\\x9c\\x8då\\x8a¡ä¸\\xadå¿\\x83ï¼\\x88ä¿¡æ\\x81¯ä¸\\xadå¿\\x83ï¼\\x89 æ\\x89¿å\\x8a\\x9e<br />\\r\\nå\\x9c°å\\x9d\\x80ï¼\\x9aå\\x8c\\x97äº¬å¸\\x82è¥¿å\\x9f\\x8eå\\x8cºå®£æ\\xad¦é\\x97¨å¤\\x96å¤§è¡\\x9740å\\x8f·ã\\x80\\x80<br />\\r\\n<p style=\"background:none;\"><a class=\"banquan\" style=\"color:#2b4e3b;\" href=\"http://www.beian.miit.gov.cn/\" target=\"_blank\">äº¬ICPå¤\\x8719010669å\\x8f·</a>ã\\x80\\x80<img style=\"padding-top:0px; width: 14px;\" src=\"/chinafilm/images/batb.png\"><a class=\"banquan\" style=\"color:#2b4e3b;\" href=\"http://www.beian.gov.cn/portal/registerSystemInfo?recordcode=11010202008390\" target=\"_blank\">äº¬å\\x85¬ç½\\x91å®\\x89å¤\\x8711010202008390å\\x8f·</a></p>\\r\\n\\r\\n</div>\\r\\n</div>\\r\\n<script src=\"/chinafilm/js/jquery.js\"></script>\\r\\n<script src=\"/chinafilm/js/SuperEffects.js\"></script>\\r\\n<script src=\"/chinafilm/js/public.js\"></script>\\r\\n<script>\\r\\nvar _hmt = _hmt || [];\\r\\n(function() {\\r\\n  var hm = document.createElement(\"script\");\\r\\n  hm.src = \"https://hm.baidu.com/hm.js?eceef499413dacbb51b7e6670cea8bb8\";\\r\\n  var s = document.getElementsByTagName(\"script\")[0]; \\r\\n  s.parentNode.insertBefore(hm, s);\\r\\n})();\\r\\n</script>\\r\\n\\r\\n\\r\\n</body>\\r\\n</html>\\r\\n\\n<script type=\"text/javascript\" language=\"javascript\">\\n$(function(){\\n    try\\n    {\\n        var queryString = document.location.search;\\n        if (queryString == null || queryString.length <= 1) return;\\n        var reg = new RegExp(\"(^|&)ID=([^&]*)(&|$)\"); \\n        var r = queryString.substring(1).match(reg);\\n        var v = decodeURI(decodeURI(r[2]));\\n        if (r) $(\"#ajaxElement_1_236\").text(v);\\n    }catch(e){}\\n});\\n</script>\\n\\r\\n'"
      ]
     },
     "execution_count": 42,
     "metadata": {},
     "output_type": "execute_result"
    }
   ],
   "source": [
    "res = session.get(film_url)\n",
    "res.text"
   ]
  },
  {
   "cell_type": "markdown",
   "metadata": {},
   "source": [
    "### 匹配ID"
   ]
  },
  {
   "cell_type": "code",
   "execution_count": 20,
   "metadata": {},
   "outputs": [
    {
     "data": {
      "text/plain": [
       "'3876'"
      ]
     },
     "execution_count": 20,
     "metadata": {},
     "output_type": "execute_result"
    }
   ],
   "source": [
    "# \\d+\n",
    "# (?<=姓名：).*?(?=，\\d{11})\n",
    "pattern = '\\d+'\n",
    "re.search(pattern, film_url).group()"
   ]
  },
  {
   "cell_type": "markdown",
   "metadata": {},
   "source": [
    "### 用BeautifulSoup获取"
   ]
  },
  {
   "cell_type": "code",
   "execution_count": 48,
   "metadata": {},
   "outputs": [
    {
     "data": {
      "text/plain": [
       "1581505345.378365"
      ]
     },
     "execution_count": 48,
     "metadata": {},
     "output_type": "execute_result"
    }
   ],
   "source": [
    "time_stamp = datetime.datetime.now().timestamp()\n",
    "time_stamp"
   ]
  },
  {
   "cell_type": "code",
   "execution_count": 50,
   "metadata": {},
   "outputs": [
    {
     "data": {
      "text/plain": [
       "'1581505345378'"
      ]
     },
     "execution_count": 50,
     "metadata": {},
     "output_type": "execute_result"
    }
   ],
   "source": [
    "time_stamp = ''.join(str(time_stamp).split('.'))[:13]\n",
    "time_stamp"
   ]
  },
  {
   "cell_type": "code",
   "execution_count": 51,
   "metadata": {},
   "outputs": [
    {
     "data": {
      "text/plain": [
       "<Response [200]>"
      ]
     },
     "execution_count": 51,
     "metadata": {},
     "output_type": "execute_result"
    }
   ],
   "source": [
    "params = {'ID': '3876',\n",
    "          '': '',\n",
    "          time_stamp_13: ''}\n",
    "\n",
    "payload = {\"value\":\"Dry7AkKkNA5znUnNjBtm2UwoT5vm0504UJFr14eOz5MCWAoc1IUDT2L0LzXimjJcTm46XxjPOjLDtYxy0slash0Zrx1S5CsokSwW9B5oRHokJFHUNQbGhM0add00slash0P0thBSvio0slash0W7pxlMIqGbYRSalMj0slash0ixM0add0sufwNu3Xj0slash0EKqjzmzBKo9Vm90qU5ehmDEBxO0add0tuApg2JcYK0slash0NeYW3C0add0p6ipPtGM0add0zg30add07vq5wGGy1buFR5mKj5fsytbDL2KMMr2sH9JDrIWtJx0slash0CHTFNzRb4TTU0slash09Bj8e3zmuOwEYzR4YjiOWM2r68wQ1Pl4TY0slash0OEIjT1NpokCd40add09c0slash0h5HwV0KibW6wuzs1XV9oCSeoELOAjTHkDhPm3BYWXRQ8drAtvL0add0I8zsPI0slash08ZkbXAJqR0add0AD7yeYBGyOR9Ajvg2maeOVYeF1sxQvW0slash02LF7M0add0dLUu7BRuFj5pDUNUUeLZw5Ixm0slash0GnuQReKbA2O55PxS35shJnBJgtndcB3qoA0add0dLVrTPQIfwDRcILUibIDqa4ktyGUGbVoKlmJu9V2aj0slash0Hy4vNXy3DedK5FTqiZPgTiguzLXWjSdOZHB8DCJLVFcJJxpcoIiCwEQICY0add0WWAPbQILIQf6ltxwQifkAhBUmQwebMELMQOiaimyddTXIFjEEJNpsjLfeF0add0agnrra36jtE1dNI0add0JwveDHiOgBgY3PyRXqX4M70add0oS0slash03W0slash0B0add006bFtTh9MUMS9lfXgv1RpwOOC0slash0p9Dmijn0add04UxWIF2dnQ7Usko7uzFEBcX5W6o0slash09QG3d80add0cruxdeEzBHIUNubgy4Oc5aF0ZBS7SmKTgoCxZYcmgxnYkBg1o0slash06mPeOUEtfmR2DqMcfQcO9y0nuVz9z40slash0QorfVbqGrkFPvV90slash0fTT0Q2vku0xoly1HQsro9yXZ7DlPpkB0bRoDqISaOV5eccqofAf0slash0KCVgHFEzeKleaVCRIfh1wC5UPJUzOtoNjp2AzLZKVoBAh5PTqviFYLOFxKtAMPAvH3cez20ivUXhypAgVLJBUnIPuF5MAEirMsYC6svL4QuZ0add0qEEyfZ6ds7rIoKYHZyuRpmikn9DIw96dPsZyT4ZRwTwxN1KtRjMkO1v90add0MCHfKJxB8JXvwmhMnZP6cwXANYabiZZpiZpuR4wdRQGHq7VjFf0V0qDErSbEqa21CrKPH08n6AMRcU9rLioVXCbH0FcgZh7yqJRfDUTMyPKxGpCpOmQnMwMNASx6U5cbLtjoPRrqG1CZH8Lbbi0add0tj3o4wsQ79XUG7XHuCDBB4a4YLYAe0slash0cuE7dnS0PpYyrFp0slash03nDwzm0CHK0dch1S5YU3tD7yzMGccFGAy7rtbryzgHa6c40mYArv1Pwne5MaDsxUafY0gXKvrDREnBYCAGDWnuo0slash0UKPyQzCie0wL0add09qRs4rH20slash0bA8V6eAtiWuNg5UTC5F3DNrMGwoz1KjPUtuFT1dyFi4ClahlTVujkPvaJAbbhA0slash0W0naoHbZh3RJAPhfs42HVz2L9UPJbBdmOF4UvTY10add0bIhKUPonpJzAhgfooTK9Cz7G9a58Hq1I0slash0FC6na20slash00slash0mYHd6E4xk100slash0YZFyEQmhtsFybr0eKW6GveuMJ3Iq1JLWYh6hXrU5EcIZmwTo0slash00UNDo0slash0iVbrxMa8T6mDOsW9ryYn0add0nLFQr8n9slb5CY0slash0lgnTRSIbmwIrpXgX0slash0kqT66lPDuxSKhxHtobVPUAXLWXIynmzWuhjnNL0add0TlsLM2qZJhiR7MEhHhXplm5nwSd4fLIXWzMlgXkDXKVSnX91z7FgSzuf0add0Ezbj3Tt4Fjk0add0EosjODfcS6anzLNWIfAX6XbltShWOgY6kix9PMrBwU6S3sP8db9PjWMRHpXR8Wj7yaMoloFtOfHqnDvsGgxqXzjzeH1YG0LeI0qmHP0add0DkOQFAcc4sO8gXfIEYtCxYnDakCAJ2wFKDDYksbGPJue0slash0W6EefKKyww69WSA4bxR8ZwC22kuIP3IMzA5oCjvWif1jgqIf7dMGRVEoJnm0JPO3zHAbZ7wLPzGmSedzGPNad9c2rKNYtrpCvNGEzpWUHv0slash0IdJeD0slash0KE3ymFf60BwWpKrB82vK0f9OdNbKandv1mOYpAgEhnZ6nqORFsQG6qkbS8lQfbX7zlEEgzZpRkJksdu0slash0aW0dFKDxxxWgAsREoAMhB1iTEC0slash0CP9ug1mWFEAbpGB0add0PLeOvqY0add04OmjvlbTyMB8bGy7wMqoC1HO0HIaufTCMdyhFou0sAxx4Kwuagakw0add0JO3Cd7O0add0JM59WZyenofvWVfWHj0add0r70slash0iA1hXLB6GOak4brY8Ux1fZX0add0LXJFBp4cCnKzR2NJR2G0slash0b0slash0lZ5Pj1U0add0Xn0add0vAGqR8xnzuRRoLcICPowOJAmnY2X570add0KEDW0slash01kmjj0slash0Yzot7vLbVysJYSjl0Q9y0slash0Q4LSZZnPgOsBq99QVClg0GPVRPW0slash0SZsrwHRF5msEnSk69iEdyuvU9zSBf0slash02Huk6LSjNa70RWsHiqLvH2NfX24dE0xlY42l9mbYdS5gNsCOXai3JYd9J6geA0add0w7xKsqesvbxsNwSOAJ80HT1MA9lOdtl4b37af9ZBlgF8xkzr6SJK1K5LgIRE16EIuhbQvPrQ3dVI7VX9C41DXbvLVmr5QNhkXCiaHopovXV9i0add0YM0slash0y4ZM7yNCD86rbxXxZ4FvHoUH1iOmt6HueKOSqGo4JYjsoru0add00slash00add098z6oRPzjUSNFFJcGwGzAKWMIHfDfOugjEji72oxrQv3JrRXH6aYe0bV7tNTyGW9jnpgZeQgF5UycxiLKDOQs9ucym7Xy54hctO0add0kOk0add0td2ssji8D14080add0abKMX7QS9F2d5p5BL7ZHaJsolo2UVndQ1orcQW87nayUdsiOR0uVfStpdgxVXCno5EbwvXFiOOT8Tn5gHqMBWY5o0slash0vLZHhfpuM6akBWUdzNuA0eWEeO0slash0YjOZ7EumGVSjLcnPyIVADHWjPurXtLCJXkPhmbLgxXahJxsLF68ceXGb0add06EyCAKwAOBMinu0rKgwlAR0x2NJdjsspBOJ3vmXMlXlzh0add01LSLslw0slash0f3yV0add00KaVPxF0slash02jZ1HekL2GERbR2R4JKj0hYJsqJ06v8QFdkPGY0add0W0hrQx50add0pdxYCL0add0jQRiiVZ4lMTvBYq7OkWfY1JhY0add0ExCe49R8MRzfj3IvGU4vG7TEmpqOOYJKb7ySW0add00rK6Uw1NfNSGvsV0Gz2AJ742BYQbt3rp00slash0A7jRobkxNISSoI1XeyZ70add0UDIBMEL45TeMbTS10slash0DothFdju16eGN0add0ZJjNTfesMwtU8hV2iQoDHn0slash0EvjEEsND7Oav5BPbz86WbgqLBsnCdSnbuJcvtH0vTiMlv1odLraKEREHlZ5ouATT3t57E20add05VyEAP6K0add0AKBjFItmRwbTT4dJW35ktOxam0leqobGKr2rZJaV4G0add0j9VcaM8S0add0BKu10slash0fXBjVNOhUirbLNA0add0RqTao5bgkINRNpppy4RtOhOBGBtSAMSvYE5X4tISUIQeCmDiG0slash0ntTkexCr75uQn2nCBGs9ydFCc0add0TwHltjmbl0add0RFntzSnyeK8imAo9WZEFtIf0h6HO1xrEoBrAXyHk0add01rpMiHHQcxwiyDXmsOrMNKJS8BLVYEVPE6vDXqvioVywWrG0hlCfN7R6BONeKJvJI8zpZQR7v5SE3ws0add00add0O0Hup1Gz3GIHqQd8mlpIA6TP4soWD7c4aaHeKjj12dT0slash0M4OLL6hZeCA3ZSvKUfBMlfFZhqA8qKvEinjWDxfBus061qX2MTgGMrHKNSAyjFeA1TqPFI576qIc9S0add0U4G77k10secret0\",\n",
    "           \"page\":1}\n",
    "\n",
    "res = session.post('http://59.252.100.27/api/sys/stl/actions/dynamic?',\n",
    "                   headers=headers, \n",
    "                   params=params,\n",
    "                   data=json.dumps(payload),\n",
    "                   allow_redirects=True)\n",
    "res"
   ]
  },
  {
   "cell_type": "code",
   "execution_count": 30,
   "metadata": {
    "scrolled": true
   },
   "outputs": [
    {
     "name": "stdout",
     "output_type": "stream",
     "text": [
      "影科备字[2019]第106号\n",
      "生活垃圾分类\n",
      "安徽泰洋文化传播有限公司、安徽省当代影视创作研究院、安徽省循环经济研究院\n",
      "陈金胜、蔡武\n",
      "同意拍摄\n",
      "安徽省\n",
      "科教影片\n",
      "宣传垃圾分类的重要意义、普及垃圾分类的方法，介绍按循环经济“3R”原则（减量化、再利用、资源化）对垃圾进行源头减量、资源化再生利用、无害化处理等知识普及，使生活垃圾成为宝贵的“矿场资源”。\n"
     ]
    }
   ],
   "source": [
    "soup = BeautifulSoup(json.loads(res.text)['html'],'html.parser')\n",
    "tds = soup.find_all('td')\n",
    "\n",
    "rec_no = tds[3].text\n",
    "film_name = tds[5].text\n",
    "rec_org = tds[7].text\n",
    "script_writer = tds[9].text\n",
    "rec_result = tds[11].text\n",
    "rec_area = tds[13].text\n",
    "classified = tds[1].text\n",
    "# date_range = # 公示期间\n",
    "# ann_date =  # 公告时间\n",
    "outline = tds[15].text[4:]\n",
    "\n",
    "print(rec_no)\n",
    "print(film_name)\n",
    "print(rec_org)\n",
    "print(script_writer)\n",
    "print(rec_result)\n",
    "print(rec_area)\n",
    "print(classified)\n",
    "# print(date_range)\n",
    "# print(ann_date)\n",
    "print(outline)"
   ]
  },
  {
   "cell_type": "markdown",
   "metadata": {
    "heading_collapsed": true
   },
   "source": [
    "### 用Selenium获取(淘汰)"
   ]
  },
  {
   "cell_type": "code",
   "execution_count": null,
   "metadata": {
    "hidden": true
   },
   "outputs": [],
   "source": [
    "# from selenium.webdriver.chrome.options import Options # 从options模块中调用Options类\n",
    "\n",
    "# chrome_options = Options() # 实例化Option对象\n",
    "# chrome_options.add_argument('--headless') # 把Chrome浏览器设置为静默模式\n",
    "# driver = webdriver.Chrome(options = chrome_options) # 设置引擎为Chrome，在后台默默运行\n",
    "# driver.get(film_url)\n",
    "# time.sleep(2)\n",
    "\n",
    "# tds = driver.find_elements_by_tag_name('td')\n",
    "# # for td in tds:\n",
    "# #     print(td.text)\n",
    "\n",
    "# rec_no = tds[3].text\n",
    "# film_name = tds[5].text\n",
    "# rec_org = tds[7].text\n",
    "# script_writer = tds[9].text\n",
    "# rec_result = tds[11].text\n",
    "# rec_area = tds[13].text\n",
    "# classified = tds[1].text\n",
    "# # date_range = # 公示期间\n",
    "# # ann_date =  # 公告时间\n",
    "# outline = tds[15].text[4:]\n",
    "\n",
    "# print(rec_no)\n",
    "# print(film_name)\n",
    "# print(rec_org)\n",
    "# print(script_writer)\n",
    "# print(rec_result)\n",
    "# print(rec_area)\n",
    "# print(classified)\n",
    "# # print(date_range)\n",
    "# # print(ann_date)\n",
    "# print(outline)\n",
    "    \n",
    "# driver.close()"
   ]
  },
  {
   "cell_type": "code",
   "execution_count": null,
   "metadata": {
    "hidden": true
   },
   "outputs": [],
   "source": []
  }
 ],
 "metadata": {
  "kernelspec": {
   "display_name": "Python 3",
   "language": "python",
   "name": "python3"
  },
  "language_info": {
   "codemirror_mode": {
    "name": "ipython",
    "version": 3
   },
   "file_extension": ".py",
   "mimetype": "text/x-python",
   "name": "python",
   "nbconvert_exporter": "python",
   "pygments_lexer": "ipython3",
   "version": "3.7.4"
  },
  "toc": {
   "base_numbering": 1,
   "nav_menu": {},
   "number_sections": true,
   "sideBar": true,
   "skip_h1_title": false,
   "title_cell": "Table of Contents",
   "title_sidebar": "Contents",
   "toc_cell": false,
   "toc_position": {
    "height": "calc(100% - 180px)",
    "left": "10px",
    "top": "150px",
    "width": "288px"
   },
   "toc_section_display": true,
   "toc_window_display": true
  }
 },
 "nbformat": 4,
 "nbformat_minor": 2
}
